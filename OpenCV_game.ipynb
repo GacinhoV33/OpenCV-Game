{
 "cells": [
  {
   "cell_type": "code",
   "execution_count": 25,
   "metadata": {
    "pycharm": {
     "name": "#%%\n"
    }
   },
   "outputs": [],
   "source": [
    "import matplotlib.pyplot as plt\n",
    "import cv2\n",
    "import numpy as np\n",
    "import os\n",
    "import wget\n",
    "import time\n",
    "import gra \n",
    "if not os.path.exists(\"gra.py\") :\n",
    "    wget.download(\"https://raw.githubusercontent.com/vision-agh/poc_sw/master/10_Morphology/gra.py\")\n",
    "if not os.path.exists(\"szkielet.bmp\") :\n",
    "    wget.download(\"https://raw.githubusercontent.com/vision-agh/poc_sw/master/10_Morphology/szkielet.bmp\")\n",
    "\n",
    "A = np.array([[1, 8, 64], [2, 16, 128], [4, 32, 256]])\n",
    "Structual_element = np.array([[1, 1, 0],[1, 0, 1], [1, 0, 1]])\n",
    "plansza1 = gra.plansza1\n",
    "plansza2 = gra.plansza2\n",
    "plansza3 = gra.plansza3\n",
    "szkielet = cv2.imread(\"szkielet.bmp\", cv2.IMREAD_GRAYSCALE)\n"
   ]
  },
  {
   "source": [
    "### Gra w życie\n",
    "\n",
    "Reguły gry w życie:\n",
    "  - każdy piksel biały, który ma dwóch lub trzech sąsiadów (białych) przeżywa,\n",
    "  - każdy piksel biały, który ma 0,1 lub więcej niż trzech sąsiadów (białych) nie przeżywa (głód lub przeludnienie),\n",
    "  - jeżeli jakieś pole (czarne) sąsiaduje dokładnie z trzema pikselami białymi, to na tym polu ,,rodzi'' się nowy piksel biały.\n",
    "\n",
    "Aby dodać planszę, należy zamieścić macierz binarną typu np.array w pliku gra.py "
   ],
   "cell_type": "markdown",
   "metadata": {}
  },
  {
   "cell_type": "code",
   "execution_count": 26,
   "metadata": {},
   "outputs": [],
   "source": [
    "import IPython.display"
   ]
  },
  {
   "cell_type": "code",
   "execution_count": 27,
   "metadata": {},
   "outputs": [],
   "source": [
    "def func2(window):\n",
    "    LUT = np.array([[1, 1, 1]\n",
    "                   ,[1, 0, 1],\n",
    "                    [1, 1, 1]], dtype=np.uint8)\n",
    "    sum_of_surr = np.sum(window * LUT)\n",
    "    if sum_of_surr == 2 or sum_of_surr == 3:\n",
    "        return 1\n",
    "    else:\n",
    "        return 0\n",
    "\n",
    "def func3(window):\n",
    "    LUT = np.array([[1, 1, 1]\n",
    "                   ,[1, 0, 1],\n",
    "                    [1, 1, 1]], dtype=np.uint8)\n",
    "    sum_of_surr = np.sum(window * LUT)\n",
    "    if sum_of_surr == 3:\n",
    "        return 1\n",
    "    else:\n",
    "        return 0\n",
    "\n",
    "def LUT_for_image2(image):\n",
    "    counter = 0 \n",
    "    new_image = np.zeros(image.shape)\n",
    "    for i in range(1, new_image.shape[0] - 1):\n",
    "        for j in range(1, new_image.shape[1] - 1):\n",
    "            if image[i][j] == 1:\n",
    "                surrounding = image[i-1:i+2, j-1:j+2]\n",
    "                new_image[i][j] = func2(surrounding)\n",
    "            elif image[i][j] == 0:\n",
    "                surrounding = image[i-1:i+2, j-1:j+2]\n",
    "                new_image[i][j] = func3(surrounding)\n",
    "    for i in range(new_image.shape[0]):\n",
    "        for j in range(new_image.shape[1]):\n",
    "            if new_image[i][j] == 1:\n",
    "                counter+= 1\n",
    "\n",
    "    return new_image, counter "
   ]
  },
  {
   "cell_type": "code",
   "execution_count": 35,
   "metadata": {},
   "outputs": [],
   "source": [
    "def play_game(plansza: np.array):\n",
    "    plt.figure(figsize=[7, 7])\n",
    "    plt.imshow(plansza)\n",
    "    plt.title(\"START\")\n",
    "    plt.show()\n",
    "    active_players = 9 \n",
    "    counter = 1\n",
    "    while active_players != 0 and counter < 100:\n",
    "        plansza, active_players = LUT_for_image2(plansza)\n",
    "        plt.figure(figsize=[7, 7])\n",
    "        plt.imshow(plansza)\n",
    "        plt.title(\"Round \" + str(counter) + \"  Players : \" + str(active_players))\n",
    "        plt.show()\n",
    "        counter += 1\n",
    "        IPython.display.clear_output(wait=True)\n",
    "        time.sleep(0.1)\n",
    "    print(\"------------------------GAME OVER----------------------\")"
   ]
  },
  {
   "cell_type": "code",
   "execution_count": 29,
   "metadata": {},
   "outputs": [
    {
     "output_type": "stream",
     "name": "stdout",
     "text": [
      "------------------------GAME OVER----------------------\n"
     ]
    }
   ],
   "source": [
    "play_game(plansza1)\n"
   ]
  },
  {
   "cell_type": "code",
   "execution_count": 30,
   "metadata": {},
   "outputs": [
    {
     "output_type": "stream",
     "name": "stdout",
     "text": [
      "------------------------GAME OVER----------------------\n"
     ]
    }
   ],
   "source": [
    "play_game(szkielet/255)"
   ]
  },
  {
   "cell_type": "code",
   "execution_count": 31,
   "metadata": {},
   "outputs": [
    {
     "output_type": "stream",
     "name": "stdout",
     "text": [
      "------------------------GAME OVER----------------------\n"
     ]
    }
   ],
   "source": [
    "play_game(plansza2)"
   ]
  },
  {
   "cell_type": "code",
   "execution_count": 32,
   "metadata": {},
   "outputs": [
    {
     "output_type": "stream",
     "name": "stdout",
     "text": [
      "------------------------GAME OVER----------------------\n"
     ]
    }
   ],
   "source": [
    "play_game(plansza3)"
   ]
  }
 ],
 "metadata": {
  "language_info": {
   "version": "3.7.4"
  },
  "orig_nbformat": 3,
  "kernelspec": {
   "name": "python374jvsc74a57bd086add15f5a31147593de165f834a3b87cd1ecaeeb40bbf223230c3d9495a0409",
   "display_name": "Python 3.7.4 64-bit"
  }
 },
 "nbformat": 4,
 "nbformat_minor": 4
}